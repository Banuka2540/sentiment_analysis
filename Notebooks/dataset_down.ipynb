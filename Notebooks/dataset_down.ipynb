{
 "cells": [
  {
   "cell_type": "code",
   "execution_count": 4,
   "id": "19092636",
   "metadata": {},
   "outputs": [],
   "source": [
    "import numpy as np \n",
    "import matplotlib.pyplot as plt \n",
    "import pandas as pd "
   ]
  },
  {
   "cell_type": "code",
   "execution_count": 14,
   "id": "1bb6f640",
   "metadata": {},
   "outputs": [],
   "source": [
    "import json \n",
    "with open('../Artifacts/kaggle.json','r') as file:\n",
    "    data = json.load(file)"
   ]
  },
  {
   "cell_type": "code",
   "execution_count": 15,
   "id": "74719d69",
   "metadata": {},
   "outputs": [
    {
     "data": {
      "text/plain": [
       "{'username': 'banukadeseram', 'key': '164745d73cd7cc00c95a677e3d8d1ec8'}"
      ]
     },
     "execution_count": 15,
     "metadata": {},
     "output_type": "execute_result"
    }
   ],
   "source": [
    "data"
   ]
  },
  {
   "cell_type": "code",
   "execution_count": 13,
   "id": "b1b6c291",
   "metadata": {},
   "outputs": [
    {
     "name": "stdout",
     "output_type": "stream",
     "text": [
      "Collecting kaggle\n",
      "  Downloading kaggle-1.7.4.5-py3-none-any.whl.metadata (16 kB)\n",
      "Collecting bleach (from kaggle)\n",
      "  Using cached bleach-6.2.0-py3-none-any.whl.metadata (30 kB)\n",
      "Collecting certifi>=14.05.14 (from kaggle)\n",
      "  Using cached certifi-2025.10.5-py3-none-any.whl.metadata (2.5 kB)\n",
      "Collecting charset-normalizer (from kaggle)\n",
      "  Using cached charset_normalizer-3.4.3-cp313-cp313-win_amd64.whl.metadata (37 kB)\n",
      "Collecting idna (from kaggle)\n",
      "  Using cached idna-3.10-py3-none-any.whl.metadata (10 kB)\n",
      "Collecting protobuf (from kaggle)\n",
      "  Using cached protobuf-6.32.1-cp310-abi3-win_amd64.whl.metadata (593 bytes)\n",
      "Requirement already satisfied: python-dateutil>=2.5.3 in d:\\python_projects\\ml\\sentiment_analysis\\env\\lib\\site-packages (from kaggle) (2.9.0.post0)\n",
      "Collecting python-slugify (from kaggle)\n",
      "  Downloading python_slugify-8.0.4-py2.py3-none-any.whl.metadata (8.5 kB)\n",
      "Collecting requests (from kaggle)\n",
      "  Using cached requests-2.32.5-py3-none-any.whl.metadata (4.9 kB)\n",
      "Collecting setuptools>=21.0.0 (from kaggle)\n",
      "  Using cached setuptools-80.9.0-py3-none-any.whl.metadata (6.6 kB)\n",
      "Requirement already satisfied: six>=1.10 in d:\\python_projects\\ml\\sentiment_analysis\\env\\lib\\site-packages (from kaggle) (1.17.0)\n",
      "Collecting text-unidecode (from kaggle)\n",
      "  Downloading text_unidecode-1.3-py2.py3-none-any.whl.metadata (2.4 kB)\n",
      "Collecting tqdm (from kaggle)\n",
      "  Using cached tqdm-4.67.1-py3-none-any.whl.metadata (57 kB)\n",
      "Collecting urllib3>=1.15.1 (from kaggle)\n",
      "  Using cached urllib3-2.5.0-py3-none-any.whl.metadata (6.5 kB)\n",
      "Collecting webencodings (from kaggle)\n",
      "  Using cached webencodings-0.5.1-py2.py3-none-any.whl.metadata (2.1 kB)\n",
      "Requirement already satisfied: colorama in d:\\python_projects\\ml\\sentiment_analysis\\env\\lib\\site-packages (from tqdm->kaggle) (0.4.6)\n",
      "Downloading kaggle-1.7.4.5-py3-none-any.whl (181 kB)\n",
      "Using cached certifi-2025.10.5-py3-none-any.whl (163 kB)\n",
      "Using cached setuptools-80.9.0-py3-none-any.whl (1.2 MB)\n",
      "Using cached urllib3-2.5.0-py3-none-any.whl (129 kB)\n",
      "Using cached bleach-6.2.0-py3-none-any.whl (163 kB)\n",
      "Using cached charset_normalizer-3.4.3-cp313-cp313-win_amd64.whl (107 kB)\n",
      "Using cached idna-3.10-py3-none-any.whl (70 kB)\n",
      "Using cached protobuf-6.32.1-cp310-abi3-win_amd64.whl (435 kB)\n",
      "Downloading python_slugify-8.0.4-py2.py3-none-any.whl (10 kB)\n",
      "Downloading text_unidecode-1.3-py2.py3-none-any.whl (78 kB)\n",
      "Using cached requests-2.32.5-py3-none-any.whl (64 kB)\n",
      "Using cached tqdm-4.67.1-py3-none-any.whl (78 kB)\n",
      "Using cached webencodings-0.5.1-py2.py3-none-any.whl (11 kB)\n",
      "Installing collected packages: webencodings, text-unidecode, urllib3, tqdm, setuptools, python-slugify, protobuf, idna, charset-normalizer, certifi, bleach, requests, kaggle\n",
      "\n",
      "   ------ ---------------------------------  2/13 [urllib3]\n",
      "   ------ ---------------------------------  2/13 [urllib3]\n",
      "   ------ ---------------------------------  2/13 [urllib3]\n",
      "   ------ ---------------------------------  2/13 [urllib3]\n",
      "   --------- ------------------------------  3/13 [tqdm]\n",
      "   --------- ------------------------------  3/13 [tqdm]\n",
      "   --------- ------------------------------  3/13 [tqdm]\n",
      "   --------- ------------------------------  3/13 [tqdm]\n",
      "   --------- ------------------------------  3/13 [tqdm]\n",
      "   ------------ ---------------------------  4/13 [setuptools]\n",
      "   ------------ ---------------------------  4/13 [setuptools]\n",
      "   ------------ ---------------------------  4/13 [setuptools]\n",
      "   ------------ ---------------------------  4/13 [setuptools]\n",
      "   ------------ ---------------------------  4/13 [setuptools]\n",
      "   ------------ ---------------------------  4/13 [setuptools]\n",
      "   ------------ ---------------------------  4/13 [setuptools]\n",
      "   ------------ ---------------------------  4/13 [setuptools]\n",
      "   ------------ ---------------------------  4/13 [setuptools]\n",
      "   ------------ ---------------------------  4/13 [setuptools]\n",
      "   ------------ ---------------------------  4/13 [setuptools]\n",
      "   ------------ ---------------------------  4/13 [setuptools]\n",
      "   ------------ ---------------------------  4/13 [setuptools]\n",
      "   ------------ ---------------------------  4/13 [setuptools]\n",
      "   ------------ ---------------------------  4/13 [setuptools]\n",
      "   ------------ ---------------------------  4/13 [setuptools]\n",
      "   ------------ ---------------------------  4/13 [setuptools]\n",
      "   ------------ ---------------------------  4/13 [setuptools]\n",
      "   ------------ ---------------------------  4/13 [setuptools]\n",
      "   ------------ ---------------------------  4/13 [setuptools]\n",
      "   ------------ ---------------------------  4/13 [setuptools]\n",
      "   ------------ ---------------------------  4/13 [setuptools]\n",
      "   ------------ ---------------------------  4/13 [setuptools]\n",
      "   ------------ ---------------------------  4/13 [setuptools]\n",
      "   ------------ ---------------------------  4/13 [setuptools]\n",
      "   ------------ ---------------------------  4/13 [setuptools]\n",
      "   ------------ ---------------------------  4/13 [setuptools]\n",
      "   ------------ ---------------------------  4/13 [setuptools]\n",
      "   ------------ ---------------------------  4/13 [setuptools]\n",
      "   ------------ ---------------------------  4/13 [setuptools]\n",
      "   ------------ ---------------------------  4/13 [setuptools]\n",
      "   ------------ ---------------------------  4/13 [setuptools]\n",
      "   ------------ ---------------------------  4/13 [setuptools]\n",
      "   ------------ ---------------------------  4/13 [setuptools]\n",
      "   ------------ ---------------------------  4/13 [setuptools]\n",
      "   ------------ ---------------------------  4/13 [setuptools]\n",
      "   ------------ ---------------------------  4/13 [setuptools]\n",
      "   ------------ ---------------------------  4/13 [setuptools]\n",
      "   ------------ ---------------------------  4/13 [setuptools]\n",
      "   ------------ ---------------------------  4/13 [setuptools]\n",
      "   ------------ ---------------------------  4/13 [setuptools]\n",
      "   ------------ ---------------------------  4/13 [setuptools]\n",
      "   ------------ ---------------------------  4/13 [setuptools]\n",
      "   ------------ ---------------------------  4/13 [setuptools]\n",
      "   ------------ ---------------------------  4/13 [setuptools]\n",
      "   ------------ ---------------------------  4/13 [setuptools]\n",
      "   ------------ ---------------------------  4/13 [setuptools]\n",
      "   ------------ ---------------------------  4/13 [setuptools]\n",
      "   --------------- ------------------------  5/13 [python-slugify]\n",
      "   --------------- ------------------------  5/13 [python-slugify]\n",
      "   ------------------ ---------------------  6/13 [protobuf]\n",
      "   ------------------ ---------------------  6/13 [protobuf]\n",
      "   ------------------ ---------------------  6/13 [protobuf]\n",
      "   ------------------ ---------------------  6/13 [protobuf]\n",
      "   ------------------ ---------------------  6/13 [protobuf]\n",
      "   ------------------ ---------------------  6/13 [protobuf]\n",
      "   ------------------ ---------------------  6/13 [protobuf]\n",
      "   ------------------ ---------------------  6/13 [protobuf]\n",
      "   --------------------- ------------------  7/13 [idna]\n",
      "   ------------------------ ---------------  8/13 [charset-normalizer]\n",
      "   ------------------------ ---------------  8/13 [charset-normalizer]\n",
      "   --------------------------- ------------  9/13 [certifi]\n",
      "   ------------------------------ --------- 10/13 [bleach]\n",
      "   ------------------------------ --------- 10/13 [bleach]\n",
      "   ------------------------------ --------- 10/13 [bleach]\n",
      "   ------------------------------ --------- 10/13 [bleach]\n",
      "   ------------------------------ --------- 10/13 [bleach]\n",
      "   ------------------------------ --------- 10/13 [bleach]\n",
      "   --------------------------------- ------ 11/13 [requests]\n",
      "   --------------------------------- ------ 11/13 [requests]\n",
      "   ------------------------------------ --- 12/13 [kaggle]\n",
      "   ------------------------------------ --- 12/13 [kaggle]\n",
      "   ------------------------------------ --- 12/13 [kaggle]\n",
      "   ------------------------------------ --- 12/13 [kaggle]\n",
      "   ------------------------------------ --- 12/13 [kaggle]\n",
      "   ------------------------------------ --- 12/13 [kaggle]\n",
      "   ------------------------------------ --- 12/13 [kaggle]\n",
      "   ------------------------------------ --- 12/13 [kaggle]\n",
      "   ------------------------------------ --- 12/13 [kaggle]\n",
      "   ------------------------------------ --- 12/13 [kaggle]\n",
      "   ---------------------------------------- 13/13 [kaggle]\n",
      "\n",
      "Successfully installed bleach-6.2.0 certifi-2025.10.5 charset-normalizer-3.4.3 idna-3.10 kaggle-1.7.4.5 protobuf-6.32.1 python-slugify-8.0.4 requests-2.32.5 setuptools-80.9.0 text-unidecode-1.3 tqdm-4.67.1 urllib3-2.5.0 webencodings-0.5.1\n"
     ]
    }
   ],
   "source": [
    "!pip install kaggle"
   ]
  },
  {
   "cell_type": "code",
   "execution_count": 19,
   "id": "43dfe64c",
   "metadata": {},
   "outputs": [],
   "source": [
    "import os \n",
    "os.environ['KAGGLE_USERNAME'] = data['username']\n",
    "os.environ['KAGGLE_KEY'] = data['key']"
   ]
  },
  {
   "cell_type": "code",
   "execution_count": 21,
   "id": "2fa02e36",
   "metadata": {},
   "outputs": [],
   "source": [
    "from kaggle.api.kaggle_api_extended import KaggleApi\n",
    "api = KaggleApi()\n",
    "api.authenticate()"
   ]
  },
  {
   "cell_type": "code",
   "execution_count": 24,
   "id": "7ce42bdc",
   "metadata": {},
   "outputs": [
    {
     "name": "stdout",
     "output_type": "stream",
     "text": [
      "Dataset URL: https://www.kaggle.com/datasets/dineshpiyasamara/sentiment-analysis-dataset\n"
     ]
    }
   ],
   "source": [
    "api.dataset_download_files('dineshpiyasamara/sentiment-analysis-dataset' , path = '../Artifacts')\n"
   ]
  },
  {
   "cell_type": "code",
   "execution_count": null,
   "id": "3b5baba4",
   "metadata": {},
   "outputs": [],
   "source": []
  }
 ],
 "metadata": {
  "kernelspec": {
   "display_name": "env",
   "language": "python",
   "name": "python3"
  },
  "language_info": {
   "codemirror_mode": {
    "name": "ipython",
    "version": 3
   },
   "file_extension": ".py",
   "mimetype": "text/x-python",
   "name": "python",
   "nbconvert_exporter": "python",
   "pygments_lexer": "ipython3",
   "version": "3.13.5"
  }
 },
 "nbformat": 4,
 "nbformat_minor": 5
}
